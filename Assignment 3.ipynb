{
 "cells": [
  {
   "cell_type": "code",
   "execution_count": 1,
   "id": "e10c922e",
   "metadata": {},
   "outputs": [],
   "source": [
    "import torchvision\n",
    "from torch.utils.data import Dataset\n",
    "import torchvision.transforms as transforms\n",
    "import torch\n",
    "from time import time\n",
    "from torch import nn, optim"
   ]
  },
  {
   "cell_type": "code",
   "execution_count": 2,
   "id": "26a86370",
   "metadata": {},
   "outputs": [],
   "source": [
    "trainset = torchvision.datasets.FashionMNIST(root='./data', download = True, train = True, transform = transforms.Compose([transforms.ToTensor()]))"
   ]
  },
  {
   "cell_type": "code",
   "execution_count": 3,
   "id": "3af9f0be",
   "metadata": {},
   "outputs": [],
   "source": [
    "data_loader = torch.utils.data.DataLoader(trainset, batch_size= 10,shuffle = True)"
   ]
  },
  {
   "cell_type": "code",
   "execution_count": 4,
   "id": "bdae93dc",
   "metadata": {},
   "outputs": [],
   "source": [
    "image, label = next(iter(trainset))"
   ]
  },
  {
   "cell_type": "code",
   "execution_count": 5,
   "id": "e61c061a",
   "metadata": {},
   "outputs": [],
   "source": [
    "import torch.nn.functional as F\n",
    "import torch.nn as nn\n",
    "import random\n",
    "\n",
    "class Net(nn.Module):\n",
    "    def __init__(self):\n",
    "        super().__init__()\n",
    "        self.rand = torch.randint(0, 10, (3,)).cuda()\n",
    "        self.conv1 = nn.Conv2d(1, 6, 5)\n",
    "        self.pool = nn.MaxPool2d(2, 2)\n",
    "        self.conv2 = nn.Conv2d(6, 12, 5)\n",
    "        \n",
    "        self.fc1 = nn.Linear(193, 120)\n",
    "        self.fc2 = nn.Linear(120, 60)\n",
    "        self.out = nn.Linear(60, 10)\n",
    "\n",
    "    def forward(self, x):\n",
    "        x = self.pool(F.relu(self.conv1(x)))\n",
    "        x = self.pool(F.relu(self.conv2(x)))\n",
    "        x = torch.flatten(x, 1) # flatten all dimensions except batch\n",
    "        rand = torch.randint(0, 10, (x.shape[0],1)).cuda()\n",
    "        x = torch.cat((x,rand),1)\n",
    "        x = F.relu(self.fc1(x))\n",
    "        x = F.relu(self.fc2(x))\n",
    "        x = self.out(x)\n",
    "        x = F.softmax(x, dim=1)\n",
    "        out = x.argmax(dim=1)\n",
    "        out = out + rand\n",
    "        return (x,out)\n",
    "\n",
    "\n",
    "net = Net()"
   ]
  },
  {
   "cell_type": "code",
   "execution_count": 6,
   "id": "5dc4aad3",
   "metadata": {},
   "outputs": [
    {
     "name": "stdout",
     "output_type": "stream",
     "text": [
      "Net(\n",
      "  (conv1): Conv2d(1, 6, kernel_size=(5, 5), stride=(1, 1))\n",
      "  (pool): MaxPool2d(kernel_size=2, stride=2, padding=0, dilation=1, ceil_mode=False)\n",
      "  (conv2): Conv2d(6, 12, kernel_size=(5, 5), stride=(1, 1))\n",
      "  (fc1): Linear(in_features=193, out_features=120, bias=True)\n",
      "  (fc2): Linear(in_features=120, out_features=60, bias=True)\n",
      "  (out): Linear(in_features=60, out_features=10, bias=True)\n",
      ")\n"
     ]
    }
   ],
   "source": [
    "import torch.optim as optim\n",
    "\n",
    "# defining the optimizer\n",
    "optimizer = optim.Adam(net.parameters(), lr=0.01)\n",
    "# defining the loss function\n",
    "criterion = nn.CrossEntropyLoss()\n",
    "\n",
    "net = net.cuda()\n",
    "criterion = criterion.cuda()\n",
    "    \n",
    "print(net)"
   ]
  },
  {
   "cell_type": "code",
   "execution_count": 7,
   "id": "23cb0013",
   "metadata": {},
   "outputs": [],
   "source": [
    "def get_num_correct(preds, labels):\n",
    "    return preds.argmax(dim=1).eq(labels).sum().item()"
   ]
  },
  {
   "cell_type": "code",
   "execution_count": 8,
   "id": "3c53d00f",
   "metadata": {},
   "outputs": [
    {
     "name": "stdout",
     "output_type": "stream",
     "text": [
      "[1,  2000] loss: 2.344\n",
      "[1,  4000] loss: 2.360\n",
      "[1,  6000] loss: 2.363\n",
      "[2,  2000] loss: 2.361\n",
      "[2,  4000] loss: 2.364\n",
      "[2,  6000] loss: 2.359\n",
      "[3,  2000] loss: 2.362\n",
      "[3,  4000] loss: 2.362\n",
      "[3,  6000] loss: 2.359\n",
      "[4,  2000] loss: 2.360\n",
      "[4,  4000] loss: 2.360\n",
      "[4,  6000] loss: 2.363\n",
      "[5,  2000] loss: 2.362\n",
      "[5,  4000] loss: 2.360\n",
      "[5,  6000] loss: 2.361\n",
      "[6,  2000] loss: 2.362\n",
      "[6,  4000] loss: 2.363\n",
      "[6,  6000] loss: 2.359\n",
      "[7,  2000] loss: 2.361\n",
      "[7,  4000] loss: 2.361\n",
      "[7,  6000] loss: 2.361\n",
      "[8,  2000] loss: 2.358\n",
      "[8,  4000] loss: 2.362\n",
      "[8,  6000] loss: 2.363\n",
      "[9,  2000] loss: 2.361\n",
      "[9,  4000] loss: 2.358\n",
      "[9,  6000] loss: 2.364\n",
      "[10,  2000] loss: 2.363\n",
      "[10,  4000] loss: 2.361\n",
      "[10,  6000] loss: 2.360\n",
      "Finished Training\n"
     ]
    }
   ],
   "source": [
    "for epoch in range(10):  # loop over the dataset multiple times\n",
    "\n",
    "    running_loss = 0.0\n",
    "    for i, data in enumerate(data_loader, 0):\n",
    "        # get the inputs; data is a list of [inputs, labels]\n",
    "        inputs, labels = data\n",
    "        inputs = inputs.cuda()\n",
    "        labels = labels.cuda()\n",
    "        # zero the parameter gradients\n",
    "        optimizer.zero_grad()\n",
    "\n",
    "        # forward + backward + optimize\n",
    "        outputs = net(inputs)\n",
    "        loss = criterion(outputs, labels)\n",
    "        loss.backward()\n",
    "        optimizer.step()\n",
    "\n",
    "        # print statistics\n",
    "        running_loss += loss.item()\n",
    "        if i % 2000 == 1999:    # print every 2000 mini-batches\n",
    "            print('[%d, %5d] loss: %.3f' %\n",
    "                  (epoch + 1, i + 1, running_loss / 2000))\n",
    "            running_loss = 0.0\n",
    "\n",
    "print('Finished Training')"
   ]
  },
  {
   "cell_type": "code",
   "execution_count": 11,
   "id": "b6ef908e",
   "metadata": {},
   "outputs": [],
   "source": [
    "image, label = next(iter(trainset))"
   ]
  },
  {
   "cell_type": "code",
   "execution_count": 14,
   "id": "9f27a33c",
   "metadata": {
    "scrolled": true
   },
   "outputs": [],
   "source": [
    "output = net(image.unsqueeze(0).cuda())\n"
   ]
  },
  {
   "cell_type": "code",
   "execution_count": 15,
   "id": "d4733a8d",
   "metadata": {},
   "outputs": [
    {
     "name": "stdout",
     "output_type": "stream",
     "text": [
      "tensor([[0., 0., 0., 0., 0., 0., 0., 0., 1., 0.]], device='cuda:0',\n",
      "       grad_fn=<SoftmaxBackward>)\n"
     ]
    }
   ],
   "source": [
    "print(output)"
   ]
  },
  {
   "cell_type": "code",
   "execution_count": null,
   "id": "cb1405ec",
   "metadata": {},
   "outputs": [],
   "source": []
  }
 ],
 "metadata": {
  "kernelspec": {
   "display_name": "Python 3",
   "language": "python",
   "name": "python3"
  },
  "language_info": {
   "codemirror_mode": {
    "name": "ipython",
    "version": 3
   },
   "file_extension": ".py",
   "mimetype": "text/x-python",
   "name": "python",
   "nbconvert_exporter": "python",
   "pygments_lexer": "ipython3",
   "version": "3.7.10"
  }
 },
 "nbformat": 4,
 "nbformat_minor": 5
}
